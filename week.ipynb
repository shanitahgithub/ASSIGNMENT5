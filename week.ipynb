{
 "cells": [
  {
   "cell_type": "code",
   "execution_count": 1,
   "metadata": {},
   "outputs": [],
   "source": [
    "import pandas as pd"
   ]
  },
  {
   "cell_type": "code",
   "execution_count": 2,
   "metadata": {},
   "outputs": [
    {
     "name": "stdout",
     "output_type": "stream",
     "text": [
      "Requirement already satisfied: xlrd in c:\\users\\student\\appdata\\local\\programs\\python\\python311\\lib\\site-packages (2.0.1)\n",
      "Note: you may need to restart the kernel to use updated packages.\n"
     ]
    }
   ],
   "source": [
    "pip install xlrd"
   ]
  },
  {
   "cell_type": "code",
   "execution_count": 3,
   "metadata": {},
   "outputs": [
    {
     "name": "stdout",
     "output_type": "stream",
     "text": [
      "Requirement already satisfied: pandas in c:\\users\\student\\appdata\\local\\programs\\python\\python311\\lib\\site-packages (2.1.0)\n",
      "Requirement already satisfied: numpy>=1.23.2 in c:\\users\\student\\appdata\\local\\programs\\python\\python311\\lib\\site-packages (from pandas) (1.25.2)\n",
      "Requirement already satisfied: python-dateutil>=2.8.2 in c:\\users\\student\\appdata\\roaming\\python\\python311\\site-packages (from pandas) (2.8.2)\n",
      "Requirement already satisfied: pytz>=2020.1 in c:\\users\\student\\appdata\\local\\programs\\python\\python311\\lib\\site-packages (from pandas) (2023.3.post1)\n",
      "Requirement already satisfied: tzdata>=2022.1 in c:\\users\\student\\appdata\\local\\programs\\python\\python311\\lib\\site-packages (from pandas) (2023.3)\n",
      "Requirement already satisfied: six>=1.5 in c:\\users\\student\\appdata\\roaming\\python\\python311\\site-packages (from python-dateutil>=2.8.2->pandas) (1.16.0)\n",
      "Note: you may need to restart the kernel to use updated packages.\n"
     ]
    }
   ],
   "source": [
    "pip install pandas"
   ]
  },
  {
   "cell_type": "code",
   "execution_count": 7,
   "metadata": {},
   "outputs": [
    {
     "name": "stdout",
     "output_type": "stream",
     "text": [
      "Collecting openpyxlNote: you may need to restart the kernel to use updated packages.\n",
      "\n",
      "  Downloading openpyxl-3.1.2-py2.py3-none-any.whl (249 kB)\n",
      "     ---------------------------------------- 0.0/250.0 kB ? eta -:--:--\n",
      "     ------ -------------------------------- 41.0/250.0 kB 1.9 MB/s eta 0:00:01\n",
      "     -------------- ------------------------ 92.2/250.0 kB 1.3 MB/s eta 0:00:01\n",
      "     --------------------- ---------------- 143.4/250.0 kB 1.2 MB/s eta 0:00:01\n",
      "     ----------------------------- -------- 194.6/250.0 kB 1.1 MB/s eta 0:00:01\n",
      "     -------------------------------------  245.8/250.0 kB 1.1 MB/s eta 0:00:01\n",
      "     ------------------------------------ 250.0/250.0 kB 959.0 kB/s eta 0:00:00\n",
      "Collecting et-xmlfile (from openpyxl)\n",
      "  Downloading et_xmlfile-1.1.0-py3-none-any.whl (4.7 kB)\n",
      "Installing collected packages: et-xmlfile, openpyxl\n",
      "Successfully installed et-xmlfile-1.1.0 openpyxl-3.1.2\n"
     ]
    }
   ],
   "source": [
    "pip install openpyxl"
   ]
  },
  {
   "cell_type": "code",
   "execution_count": 8,
   "metadata": {},
   "outputs": [
    {
     "name": "stdout",
     "output_type": "stream",
     "text": [
      "    S/N                      Name  Age  Weight  HEIGHT\n",
      "0     1            Adokorac Nancy   20      70  177.80\n",
      "1     2   Amutuhaire Faith Ahabwe   27      47  157.48\n",
      "2     3     KWAGALA JOANNA VICTOR   21      54  185.42\n",
      "3     4              mahoro cathy   23      30     NaN\n",
      "4     5  Mbabazi Hawa Bint Edrisa   19      59  175.26\n",
      "5     6       Nakanjako josephine   24      65  175.26\n",
      "6     7            Nanteza Dorcus   21      69  157.48\n",
      "7     8             Mbabazi Angel   19      57  167.64\n",
      "8     9            Namara Racheal   19      55  154.94\n",
      "9    10       Lwamulungi Sheillah   22      78  162.56\n",
      "10   11           Nakawuka Sandra   25      60  175.26\n",
      "11   12   Achola Gloria Fortunate   27      80  172.72\n",
      "12   13             Nagawa Esther   21      58  187.96\n",
      "13   14           wanjiku hananny   19      50  165.10\n",
      "14   15            babirye Sandra   21      50  175.26\n",
      "15   16          nakagga shanitah   21      50  175.26\n",
      "16   17    Wembabazi Vivian Ritah   20      49  160.02\n",
      "17   18   Nanziri Ritah Namayanja   23      70  162.56\n",
      "18   19            Nasejje Mariam   20      62  101.60\n",
      "19   20  Namukose Jolline Edriana   20      55  162.56\n",
      "20   21      Agatha Faith Anyango   27      55   93.98\n",
      "21   22              Kirabo Sarah   23      60  165.10\n",
      "22   23          Nansalire Anitah   21      45   63.50\n",
      "23   24             Nalugo gladys   19      70  101.60\n",
      "24   25            Namakula Allen   20      55  170.18\n",
      "25   26           Tukahirwa emily   22      67  175.26\n",
      "26   27            Shamirah Ahmed   21      67  137.16\n",
      "27   28          Ameso lmmaculate   23      64  165.10\n",
      "28   29                Ayoo Teddy   20      50  157.48\n",
      "29   30                Biira Mary   30      65  104.14\n",
      "30   31        Aloyo Brenda Ojera   23      52  170.18\n",
      "31   32        Ayebale Immaculate   24      50  162.56\n"
     ]
    }
   ],
   "source": [
    "df=pd.read_excel(r\"c:\\Users\\Student\\Desktop\\DATA SCIENCE\\data\\Dataset.xlsx\")\n",
    "print(df)"
   ]
  },
  {
   "cell_type": "code",
   "execution_count": 4,
   "metadata": {},
   "outputs": [],
   "source": [
    "import pandas as pd"
   ]
  },
  {
   "cell_type": "code",
   "execution_count": 10,
   "metadata": {},
   "outputs": [
    {
     "data": {
      "text/plain": [
       "0     20\n",
       "1     27\n",
       "2     21\n",
       "3     23\n",
       "4     19\n",
       "5     24\n",
       "6     21\n",
       "7     19\n",
       "8     19\n",
       "9     22\n",
       "10    25\n",
       "11    27\n",
       "12    21\n",
       "13    19\n",
       "14    21\n",
       "15    21\n",
       "16    20\n",
       "17    23\n",
       "18    20\n",
       "19    20\n",
       "20    27\n",
       "21    23\n",
       "22    21\n",
       "23    19\n",
       "24    20\n",
       "25    22\n",
       "26    21\n",
       "27    23\n",
       "28    20\n",
       "29    30\n",
       "30    23\n",
       "31    24\n",
       "Name: Age, dtype: int64"
      ]
     },
     "execution_count": 10,
     "metadata": {},
     "output_type": "execute_result"
    }
   ],
   "source": [
    "df=pd.read_excel(r\"c:\\Users\\Student\\Desktop\\DATA SCIENCE\\data\\Dataset.xlsx\")\n",
    "df.Age"
   ]
  },
  {
   "cell_type": "code",
   "execution_count": 12,
   "metadata": {},
   "outputs": [
    {
     "data": {
      "text/html": [
       "<div>\n",
       "<style scoped>\n",
       "    .dataframe tbody tr th:only-of-type {\n",
       "        vertical-align: middle;\n",
       "    }\n",
       "\n",
       "    .dataframe tbody tr th {\n",
       "        vertical-align: top;\n",
       "    }\n",
       "\n",
       "    .dataframe thead th {\n",
       "        text-align: right;\n",
       "    }\n",
       "</style>\n",
       "<table border=\"1\" class=\"dataframe\">\n",
       "  <thead>\n",
       "    <tr style=\"text-align: right;\">\n",
       "      <th></th>\n",
       "      <th>S/N</th>\n",
       "      <th>Name</th>\n",
       "      <th>Age</th>\n",
       "      <th>Weight</th>\n",
       "      <th>HEIGHT</th>\n",
       "    </tr>\n",
       "  </thead>\n",
       "  <tbody>\n",
       "    <tr>\n",
       "      <th>0</th>\n",
       "      <td>1</td>\n",
       "      <td>Adokorac Nancy</td>\n",
       "      <td>20</td>\n",
       "      <td>70</td>\n",
       "      <td>177.80</td>\n",
       "    </tr>\n",
       "    <tr>\n",
       "      <th>1</th>\n",
       "      <td>2</td>\n",
       "      <td>Amutuhaire Faith Ahabwe</td>\n",
       "      <td>27</td>\n",
       "      <td>47</td>\n",
       "      <td>157.48</td>\n",
       "    </tr>\n",
       "    <tr>\n",
       "      <th>2</th>\n",
       "      <td>3</td>\n",
       "      <td>KWAGALA JOANNA VICTOR</td>\n",
       "      <td>21</td>\n",
       "      <td>54</td>\n",
       "      <td>185.42</td>\n",
       "    </tr>\n",
       "    <tr>\n",
       "      <th>3</th>\n",
       "      <td>4</td>\n",
       "      <td>mahoro cathy</td>\n",
       "      <td>23</td>\n",
       "      <td>30</td>\n",
       "      <td>NaN</td>\n",
       "    </tr>\n",
       "    <tr>\n",
       "      <th>4</th>\n",
       "      <td>5</td>\n",
       "      <td>Mbabazi Hawa Bint Edrisa</td>\n",
       "      <td>19</td>\n",
       "      <td>59</td>\n",
       "      <td>175.26</td>\n",
       "    </tr>\n",
       "  </tbody>\n",
       "</table>\n",
       "</div>"
      ],
      "text/plain": [
       "   S/N                      Name  Age  Weight  HEIGHT\n",
       "0    1            Adokorac Nancy   20      70  177.80\n",
       "1    2   Amutuhaire Faith Ahabwe   27      47  157.48\n",
       "2    3     KWAGALA JOANNA VICTOR   21      54  185.42\n",
       "3    4              mahoro cathy   23      30     NaN\n",
       "4    5  Mbabazi Hawa Bint Edrisa   19      59  175.26"
      ]
     },
     "execution_count": 12,
     "metadata": {},
     "output_type": "execute_result"
    }
   ],
   "source": [
    "df.head(5)"
   ]
  },
  {
   "cell_type": "code",
   "execution_count": 13,
   "metadata": {},
   "outputs": [
    {
     "data": {
      "text/html": [
       "<div>\n",
       "<style scoped>\n",
       "    .dataframe tbody tr th:only-of-type {\n",
       "        vertical-align: middle;\n",
       "    }\n",
       "\n",
       "    .dataframe tbody tr th {\n",
       "        vertical-align: top;\n",
       "    }\n",
       "\n",
       "    .dataframe thead th {\n",
       "        text-align: right;\n",
       "    }\n",
       "</style>\n",
       "<table border=\"1\" class=\"dataframe\">\n",
       "  <thead>\n",
       "    <tr style=\"text-align: right;\">\n",
       "      <th></th>\n",
       "      <th>S/N</th>\n",
       "      <th>Name</th>\n",
       "      <th>Age</th>\n",
       "      <th>Weight</th>\n",
       "      <th>HEIGHT</th>\n",
       "    </tr>\n",
       "  </thead>\n",
       "  <tbody>\n",
       "  </tbody>\n",
       "</table>\n",
       "</div>"
      ],
      "text/plain": [
       "Empty DataFrame\n",
       "Columns: [S/N, Name, Age, Weight, HEIGHT]\n",
       "Index: []"
      ]
     },
     "execution_count": 13,
     "metadata": {},
     "output_type": "execute_result"
    }
   ],
   "source": [
    "df.head(0)"
   ]
  },
  {
   "cell_type": "code",
   "execution_count": 17,
   "metadata": {},
   "outputs": [
    {
     "data": {
      "text/plain": [
       "(32, 5)"
      ]
     },
     "execution_count": 17,
     "metadata": {},
     "output_type": "execute_result"
    }
   ],
   "source": [
    "df.shape"
   ]
  },
  {
   "cell_type": "code",
   "execution_count": 18,
   "metadata": {},
   "outputs": [
    {
     "data": {
      "text/plain": [
       "160"
      ]
     },
     "execution_count": 18,
     "metadata": {},
     "output_type": "execute_result"
    }
   ],
   "source": [
    "df.size"
   ]
  },
  {
   "cell_type": "code",
   "execution_count": 19,
   "metadata": {},
   "outputs": [
    {
     "data": {
      "text/plain": [
       "pandas.core.frame.DataFrame"
      ]
     },
     "execution_count": 19,
     "metadata": {},
     "output_type": "execute_result"
    }
   ],
   "source": [
    "type(df)"
   ]
  },
  {
   "cell_type": "markdown",
   "metadata": {},
   "source": [
    "# The mean , standard deviation(std) and variance of Age"
   ]
  },
  {
   "cell_type": "code",
   "execution_count": 20,
   "metadata": {},
   "outputs": [
    {
     "name": "stdout",
     "output_type": "stream",
     "text": [
      "mean: 22.03125\n"
     ]
    }
   ],
   "source": [
    "print(\"mean:\" , df[\"Age\"].mean())"
   ]
  },
  {
   "cell_type": "code",
   "execution_count": 21,
   "metadata": {},
   "outputs": [
    {
     "name": "stdout",
     "output_type": "stream",
     "text": [
      "std: 2.7648061823220904\n"
     ]
    }
   ],
   "source": [
    "print(\"std:\", df[\"Age\"].std())"
   ]
  },
  {
   "cell_type": "code",
   "execution_count": 22,
   "metadata": {},
   "outputs": [
    {
     "name": "stdout",
     "output_type": "stream",
     "text": [
      "var: 7.644153225806452\n"
     ]
    }
   ],
   "source": [
    "print(\"var:\", df[\"Age\"].var())"
   ]
  },
  {
   "cell_type": "markdown",
   "metadata": {},
   "source": [
    "# The mean , standard deviation(std) and variance(var) of Weight"
   ]
  },
  {
   "cell_type": "code",
   "execution_count": 29,
   "metadata": {},
   "outputs": [
    {
     "name": "stdout",
     "output_type": "stream",
     "text": [
      "mean: 58.375\n"
     ]
    }
   ],
   "source": [
    "print(\"mean:\", df[\"Weight\"].mean())"
   ]
  },
  {
   "cell_type": "code",
   "execution_count": 30,
   "metadata": {},
   "outputs": [
    {
     "name": "stdout",
     "output_type": "stream",
     "text": [
      "std: 10.344860029611713\n"
     ]
    }
   ],
   "source": [
    "print(\"std:\",df[\"Weight\"].std())"
   ]
  },
  {
   "cell_type": "code",
   "execution_count": 31,
   "metadata": {},
   "outputs": [
    {
     "name": "stdout",
     "output_type": "stream",
     "text": [
      "var: 107.01612903225806\n"
     ]
    }
   ],
   "source": [
    "print(\"var:\",df[\"Weight\"].var())"
   ]
  },
  {
   "cell_type": "markdown",
   "metadata": {},
   "source": [
    "# The mean , standard deviation(std) and variance(var) of HEIGHT"
   ]
  },
  {
   "cell_type": "code",
   "execution_count": 32,
   "metadata": {},
   "outputs": [
    {
     "name": "stdout",
     "output_type": "stream",
     "text": [
      "mean: 155.4316129032258\n"
     ]
    }
   ],
   "source": [
    "print(\"mean:\", df[\"HEIGHT\"].mean())"
   ]
  },
  {
   "cell_type": "code",
   "execution_count": 34,
   "metadata": {},
   "outputs": [
    {
     "name": "stdout",
     "output_type": "stream",
     "text": [
      "std: 30.11387090105092\n"
     ]
    }
   ],
   "source": [
    "print(\"std:\",df[\"HEIGHT\"].std())"
   ]
  },
  {
   "cell_type": "code",
   "execution_count": 35,
   "metadata": {},
   "outputs": [
    {
     "name": "stdout",
     "output_type": "stream",
     "text": [
      "var: 906.8452206451614\n"
     ]
    }
   ],
   "source": [
    "print(\"var:\",df[\"HEIGHT\"].var())"
   ]
  }
 ],
 "metadata": {
  "kernelspec": {
   "display_name": "Python 3",
   "language": "python",
   "name": "python3"
  },
  "language_info": {
   "codemirror_mode": {
    "name": "ipython",
    "version": 3
   },
   "file_extension": ".py",
   "mimetype": "text/x-python",
   "name": "python",
   "nbconvert_exporter": "python",
   "pygments_lexer": "ipython3",
   "version": "3.11.4"
  },
  "orig_nbformat": 4
 },
 "nbformat": 4,
 "nbformat_minor": 2
}
